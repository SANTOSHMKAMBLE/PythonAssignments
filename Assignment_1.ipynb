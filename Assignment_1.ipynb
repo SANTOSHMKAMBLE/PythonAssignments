{
 "cells": [
  {
   "cell_type": "markdown",
   "id": "331761bc-85d3-458e-8fb6-96ec7e4f71c9",
   "metadata": {},
   "source": [
    "1. In the below elements which of them are values or an expression? eg:- values can be integer or string and expressions will be mathematical operators.\n",
    "\n",
    "ANS * is \n",
    "\n",
    ": a mathematical operator\n",
    "\n",
    "ANS 'hello' \n",
    "\n",
    ": string\n",
    "\n",
    "ANS -87.8: \n",
    "\n",
    ":integer\n",
    "\n",
    "ANS - \n",
    ": a mathematical operator\n",
    "\n",
    "ANS / \n",
    ": a mathematical operator\n",
    "\n",
    "ANS +\n",
    ": a mathematical operator\n",
    "\n",
    "ANS 6  : integer"
   ]
  },
  {
   "cell_type": "markdown",
   "id": "688e1bb2-56c9-445a-9c53-96e087252360",
   "metadata": {},
   "source": [
    "2. What is the difference between string and variable?\n",
    "\n",
    "ANS:\n",
    "\n",
    "String is a data type. String is continuous memory allocation.\n",
    "Variable is a value placeholder which can have any python data type associated with it."
   ]
  },
  {
   "cell_type": "markdown",
   "id": "17deec32-a2d8-4932-bdcb-71b2b41b18e0",
   "metadata": {},
   "source": [
    "3. Describe three different data types.\n",
    "\n",
    "ANS\n",
    "\n",
    "List: list is a mutable data type. It can contain heterogeneous elements or data types.\n",
    "Tuple: Tuple is immutable data type. It can contain heterogeneous elements or data types.\n",
    "Dictionary: It has collection of values associated with respective keys. Dictionary is mutable and can have heterogeneous data types."
   ]
  },
  {
   "cell_type": "markdown",
   "id": "5eab7a3f-78df-4fa9-b194-7acaa260134f",
   "metadata": {},
   "source": [
    "4. What is an expression made up of? What do all expressions do?\n",
    "\n",
    "ANS\n",
    "\n",
    "An expression is a combination of operators and operands that is interpreted to produce some other value"
   ]
  },
  {
   "cell_type": "markdown",
   "id": "2a0e89fb-ffd7-4d0f-b44a-632d936e1ba5",
   "metadata": {},
   "source": [
    "5. This assignment statements, like spam = 10. What is the difference between an expression and a statement?\n",
    "\n",
    "ANS\n",
    "\n",
    "Statement such as variable assignments is executed to perform actions, while expressions are evaluated to produce values"
   ]
  },
  {
   "cell_type": "markdown",
   "id": "09e02edf-5981-4668-9dbc-d9c102da85ca",
   "metadata": {},
   "source": [
    "6. After running the following code, what does the variable bacon contain?\n",
    "bacon = 22\n",
    "bacon + 1\n",
    "\n",
    "ANS\n",
    "\n",
    "23"
   ]
  },
  {
   "cell_type": "markdown",
   "id": "0d2a255c-1fb1-49a2-84f4-3f9a60af5439",
   "metadata": {},
   "source": [
    "7. What should the values of the following two terms be?\n",
    "'spam' + 'spamspam'\n",
    "'spam' * 3\n",
    "\n",
    "ANS\n",
    "\n",
    "'spamspamspam’\n",
    "‘spamspamspam'"
   ]
  },
  {
   "cell_type": "markdown",
   "id": "35ad6d78-c66c-4c7b-8274-d4d80a269934",
   "metadata": {},
   "source": [
    "8. Why is eggs a valid variable name while 100 is invalid?\n",
    "\n",
    "ANS\n",
    "\n",
    "Eggs is valid as it is not a keyword. It does not start with number or contain special characters like !@#$%.\n",
    "100 as variable name is not valid as python variable should not be a number"
   ]
  },
  {
   "cell_type": "markdown",
   "id": "89f55d1c-5fa6-4a40-8899-b64efa711067",
   "metadata": {},
   "source": [
    "\n",
    "9. What three functions can be used to get the integer, floating-point number, or string version of a value?\n",
    "\n",
    "ANS\n",
    "\n",
    "for integer use int()\n",
    "For floating point use float()\n",
    "For string use str()"
   ]
  },
  {
   "cell_type": "markdown",
   "id": "5e291ac8-cbc1-4019-8750-af34b26ea577",
   "metadata": {},
   "source": [
    "10. Why does this expression cause an error? How can you fix it?\n",
    "'I have eaten ' + 99 + ' burritos.'\n",
    "\n",
    "ANS\n",
    "\n",
    "The expression has an integer value and it is added to two strings. In order to perform addition the data types should be same. To fix the error we can type cast like str(99)\n",
    "So the expression will be 'I have eaten ' + str(99) + ' burritos.'"
   ]
  },
  {
   "cell_type": "code",
   "execution_count": null,
   "id": "fcf82e0b-f7c9-4c60-b422-71081b47f923",
   "metadata": {},
   "outputs": [],
   "source": []
  }
 ],
 "metadata": {
  "kernelspec": {
   "display_name": "Python 3 (ipykernel)",
   "language": "python",
   "name": "python3"
  },
  "language_info": {
   "codemirror_mode": {
    "name": "ipython",
    "version": 3
   },
   "file_extension": ".py",
   "mimetype": "text/x-python",
   "name": "python",
   "nbconvert_exporter": "python",
   "pygments_lexer": "ipython3",
   "version": "3.10.6"
  }
 },
 "nbformat": 4,
 "nbformat_minor": 5
}
