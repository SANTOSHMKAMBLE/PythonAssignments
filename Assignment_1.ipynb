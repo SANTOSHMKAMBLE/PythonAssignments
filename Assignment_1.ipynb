{
 "cells": [
  {
   "cell_type": "raw",
   "id": "2edc58d0-5bd4-4942-ace3-b8436d92ba6d",
   "metadata": {},
   "source": [
    "1. In the below elements which of them are values or an expression? eg:- values can be integer or string and expressions will be mathematical operators.\n",
    "ANS\n",
    "* is : a mathematical operator\n",
    "'hello' : string\n",
    "-87.8: integer\n",
    "- : a mathematical operator\n",
    "/ : a mathematical operator\n",
    "+\t: a mathematical operator\n",
    "6  : integer"
   ]
  },
  {
   "cell_type": "raw",
   "id": "144a4a76-710c-4276-9344-e02169add1d5",
   "metadata": {},
   "source": [
    "2. What is the difference between string and variable?\n",
    "ANS:\n",
    "String is a data type. String is continuous memory allocation.\n",
    "Variable is a value placeholder which can have any python data type associated with it."
   ]
  },
  {
   "cell_type": "raw",
   "id": "9b2c3f32-bac5-4ca4-8312-479eabffe1e4",
   "metadata": {},
   "source": [
    "3. Describe three different data types.\n",
    "ANS\n",
    "List: list is a mutable data type. It can contain heterogeneous elements or data types.\n",
    "Tuple: Tuple is immutable data type. It can contain heterogeneous elements or data types.\n",
    "Dictionary: It has collection of values associated with respective keys. Dictionary is mutable and can have heterogeneous data types."
   ]
  },
  {
   "cell_type": "raw",
   "id": "74cd0955-3ccf-42f8-b203-ae8a5b190a28",
   "metadata": {},
   "source": [
    "4. What is an expression made up of? What do all expressions do?\n",
    "ANS\n",
    "An expression is a combination of operators and operands that is interpreted to produce some other value"
   ]
  },
  {
   "cell_type": "raw",
   "id": "543302a6-c7d7-4ab1-a28a-f6ee6af0d25b",
   "metadata": {},
   "source": [
    "5. This assignment statements, like spam = 10. What is the difference between an expression and a statement?\n",
    "ANS\n",
    "Statement such as variable assignments is executed to perform actions, while expressions are evaluated to produce values"
   ]
  },
  {
   "cell_type": "raw",
   "id": "b57e2dc5-6330-48b7-8ee8-e5c17e5210e5",
   "metadata": {},
   "source": [
    "6. After running the following code, what does the variable bacon contain?\n",
    "bacon = 22\n",
    "bacon + 1\n",
    "ANS\n",
    "23"
   ]
  },
  {
   "cell_type": "raw",
   "id": "53407874-7b44-4834-bffa-02c15442c993",
   "metadata": {},
   "source": [
    "7. What should the values of the following two terms be?\n",
    "'spam' + 'spamspam'\n",
    "'spam' * 3\n",
    "ANS\n",
    "'spamspamspam’\n",
    "‘spamspamspam'"
   ]
  },
  {
   "cell_type": "raw",
   "id": "c3d82b6e-4c8b-477e-9313-18b2ce827e8c",
   "metadata": {},
   "source": [
    "8. Why is eggs a valid variable name while 100 is invalid?\n",
    "ANS\n",
    "Eggs is valid as it is not a keyword. It does not start with number or contain special characters like !@#$%.\n",
    "100 as variable name is not valid as python variable should not be a number"
   ]
  },
  {
   "cell_type": "raw",
   "id": "2e7fa2df-a371-4628-aa46-c4b816a283bf",
   "metadata": {},
   "source": [
    "\n",
    "9. What three functions can be used to get the integer, floating-point number, or string version of a value?\n",
    "ANS\n",
    "for integer use int()\n",
    "For floating point use float()\n",
    "For string use str()"
   ]
  },
  {
   "cell_type": "raw",
   "id": "b93e93f6-5e6c-49a0-8aaf-be255c61a41e",
   "metadata": {},
   "source": [
    "10. Why does this expression cause an error? How can you fix it?\n",
    "'I have eaten ' + 99 + ' burritos.'\n",
    "ANS \n",
    "The expression has an integer value and it is added to two strings. In order to perform addition the data types should be same. To fix the error we can type cast like str(99)\n",
    "So the expression will be 'I have eaten ' + str(99) + ' burritos.'"
   ]
  }
 ],
 "metadata": {
  "kernelspec": {
   "display_name": "Python 3 (ipykernel)",
   "language": "python",
   "name": "python3"
  },
  "language_info": {
   "codemirror_mode": {
    "name": "ipython",
    "version": 3
   },
   "file_extension": ".py",
   "mimetype": "text/x-python",
   "name": "python",
   "nbconvert_exporter": "python",
   "pygments_lexer": "ipython3",
   "version": "3.10.6"
  }
 },
 "nbformat": 4,
 "nbformat_minor": 5
}
