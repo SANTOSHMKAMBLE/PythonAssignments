{
 "cells": [
  {
   "cell_type": "markdown",
   "id": "e762e96c-4b2e-4abb-b5b6-40495d0d8937",
   "metadata": {},
   "source": [
    "# Assignment 2"
   ]
  },
  {
   "cell_type": "raw",
   "id": "567db0ae-68ba-468f-bef9-4306df19aa61",
   "metadata": {},
   "source": [
    "1. What are the two values of the Boolean data type? How do you write them?\n",
    "\n",
    "    ANS: Boolean data type has two values True or False"
   ]
  },
  {
   "cell_type": "raw",
   "id": "d0a00531-6865-432e-a264-7cbaa283391b",
   "metadata": {},
   "source": [
    "2. What are the three different types of Boolean operators?\n",
    "\n",
    "    ANS: Thress types of Boolean operators as follows\n",
    "     i)   and\n",
    "     ii)  or\n",
    "     iii) not"
   ]
  },
  {
   "cell_type": "raw",
   "id": "72a939e7-9772-4b0f-b1f2-d656dc8640b6",
   "metadata": {},
   "source": [
    "3. Make a list of each Boolean operator's truth tables (i.e. every possible combination of Boolean values for the operator and what it evaluate ).\n",
    "\n",
    "    ANS:\n",
    "    True  and False => False\n",
    "    False and True  => False\n",
    "    True  and True  => True\n",
    "    False and False => False\n",
    "    \n",
    "    True  or False => True\n",
    "    False or True  => True\n",
    "    True  or True  => True\n",
    "    False or False => False\n",
    "    \n",
    "    not False => True\n",
    "    not True  => False\n",
    "    "
   ]
  },
  {
   "cell_type": "raw",
   "id": "650bb58c-94be-4b25-800c-a78841ccec86",
   "metadata": {},
   "source": [
    "4. What are the values of the following expressions?\n",
    "(5 > 4) and (3 == 5)\n",
    "ANS: False\n",
    "not (5 > 4)\n",
    "ANS: True\n",
    "(5 > 4) or (3 == 5)\n",
    "ANS: True\n",
    "not ((5 > 4) or (3 == 5))\n",
    "ANS: False\n",
    "(True and True) and (True == False)\n",
    "ANS: False\n",
    "(not False) or (not True)\n",
    "ANS: True"
   ]
  },
  {
   "cell_type": "raw",
   "id": "0066fee2-09fe-41af-9a50-a5d3aab78bf5",
   "metadata": {},
   "source": [
    "5. What are the six comparison operators?\n",
    "ANS:\n",
    ">, <, <= >=, ==, != "
   ]
  },
  {
   "cell_type": "raw",
   "id": "52406d61-ccc8-4102-8bf4-caa8c5b7df30",
   "metadata": {},
   "source": [
    "6. How do you tell the difference between the equal to and assignment operators? Describe a condition and when you would use one.\n",
    "ANS:\n",
    "Equal to operator is used to compare to variables while assignement operator is used to initialize variable or assign a value to variable.\n",
    "e.g  \n",
    "x = 5 # to assign variable with a value\n",
    "y = 7\n",
    "if (x == y):\n",
    "    # do something\n",
    "    print(\"\")"
   ]
  },
  {
   "cell_type": "raw",
   "id": "47909a1b-4852-4be8-9d4a-18f2f1f42d7d",
   "metadata": {},
   "source": [
    "7. Identify the three blocks in this code:\n",
    "spam = 0\n",
    "if spam == 10:\n",
    "print('eggs')\n",
    "if spam > 5:\n",
    "print('bacon')\n",
    "else:\n",
    "print('ham')\n",
    "print('spam')\n",
    "print('spam')"
   ]
  },
  {
   "cell_type": "code",
   "execution_count": null,
   "id": "432a8294-a04d-4945-88fa-9a2112c4e746",
   "metadata": {},
   "outputs": [],
   "source": [
    "# ANS => Q7\n",
    "spam = 0\n",
    "# First block -> if\n",
    "if spam == 10:\n",
    "    print('eggs')\n",
    "# Second block -> if \n",
    "if spam > 5:\n",
    "    print('bacon')\n",
    "# Third block->else\n",
    "else:\n",
    "    print('ham')\n",
    "    print('spam')\n",
    "    print('spam')"
   ]
  },
  {
   "cell_type": "raw",
   "id": "0ed4cc3d-a092-4481-b474-cb96b7edf37c",
   "metadata": {},
   "source": [
    "8. Write code that prints Hello if 1 is stored in spam, prints Howdy if 2 is stored in spam, and prints Greetings! if anything else is stored in spam."
   ]
  },
  {
   "cell_type": "code",
   "execution_count": null,
   "id": "561767bc-805d-45e7-ad1a-81f1eedec3dc",
   "metadata": {},
   "outputs": [],
   "source": [
    "# ANS => Q8\n",
    "spam = int(input(\"input a value: \"))\n",
    "if spam == 1:\n",
    "    print(\"Hello\")\n",
    "elif spam == 2:\n",
    "    print(\"Howdy\")\n",
    "else:\n",
    "    print(\"Greetings!\")"
   ]
  },
  {
   "cell_type": "raw",
   "id": "67febea3-104b-4774-a75e-dd75bd0e8599",
   "metadata": {},
   "source": [
    "9.If your programme is stuck in an endless loop, what keys you’ll press?\n",
    "ANS:\n",
    "Ctrl-C"
   ]
  },
  {
   "cell_type": "raw",
   "id": "194f8da3-8193-4f17-a580-3a6f9c037e87",
   "metadata": {},
   "source": [
    "10. How can you tell the difference between break and continue?\n",
    "ANS:\n",
    "break is used to come out of loop when a perticular condition is satisfied\n",
    "continue is used to move to next iteration in a loop without executing next lines of code "
   ]
  },
  {
   "cell_type": "raw",
   "id": "1a9b39ce-0588-4c5b-a4bd-09fc63ec6aef",
   "metadata": {},
   "source": [
    "11. In a for loop, what is the difference between range(10), range(0, 10), and range(0, 10, 1)?\n",
    "ANS:\n",
    "range(10) => it will iterate from 0 to 9 \n",
    "range(0, 10) => it will iterate 0 to 9. 0 is start index and 9 is the end/last index in loop\n",
    "range(0, 10, 1) => it will iterate 0 to 9 with 1 step"
   ]
  },
  {
   "cell_type": "raw",
   "id": "10d7e61f-1b91-4db8-a240-233855a3d1dc",
   "metadata": {},
   "source": [
    "12. Write a short program that prints the numbers 1 to 10 using a for loop. Then write an equivalent program that prints the numbers 1 to 10 using a while loop."
   ]
  },
  {
   "cell_type": "code",
   "execution_count": null,
   "id": "975abe82-d1a4-4b59-9c92-52ccceaa7f92",
   "metadata": {},
   "outputs": [],
   "source": [
    "# ANS\n",
    "# program that prints the numbers 1 to 10 using a for loop\n",
    "for i in range(1, 10):\n",
    "    print(i)\n",
    "#  program that prints the numbers 1 to 10 using a while loop\n",
    "i = 0\n",
    "while(i < 10):\n",
    "    print(++i)\n",
    "    "
   ]
  },
  {
   "cell_type": "raw",
   "id": "73bb9aa4-2b1a-4197-8ded-28a12c85325a",
   "metadata": {},
   "source": [
    "\n",
    "13. If you had a function named bacon() inside a module named spam, how would you call it after importing spam?\n",
    "ANS:\n",
    "    spam.bacon()"
   ]
  }
 ],
 "metadata": {
  "kernelspec": {
   "display_name": "Python 3 (ipykernel)",
   "language": "python",
   "name": "python3"
  },
  "language_info": {
   "codemirror_mode": {
    "name": "ipython",
    "version": 3
   },
   "file_extension": ".py",
   "mimetype": "text/x-python",
   "name": "python",
   "nbconvert_exporter": "python",
   "pygments_lexer": "ipython3",
   "version": "3.10.6"
  }
 },
 "nbformat": 4,
 "nbformat_minor": 5
}
