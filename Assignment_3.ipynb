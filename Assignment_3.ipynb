{
 "cells": [
  {
   "cell_type": "code",
   "execution_count": null,
   "id": "88c80bb4-d191-4875-8028-ab099bda9def",
   "metadata": {},
   "outputs": [],
   "source": [
    " 1. Why are functions advantageous to have in your programs?\n",
    " ANS:\n",
    "    Functions brings modularity and reusability to programs."
   ]
  },
  {
   "cell_type": "code",
   "execution_count": null,
   "id": "7096103d-cec2-4387-9010-c5921254de1e",
   "metadata": {},
   "outputs": [],
   "source": [
    "2. When does the code in a function run: when it's specified or when it's called?\n",
    "ANS:\n",
    "    The code in a function runs when it is called."
   ]
  },
  {
   "cell_type": "code",
   "execution_count": null,
   "id": "1a6895a8-fe03-4e80-b3b4-6e0cd2d5f6d0",
   "metadata": {},
   "outputs": [],
   "source": [
    "3. What statement creates a function?\n",
    "ANS:\n",
    "    def <function name>:"
   ]
  },
  {
   "cell_type": "code",
   "execution_count": null,
   "id": "b86e034b-3a71-4ac2-a652-aeaf6445cb4a",
   "metadata": {},
   "outputs": [],
   "source": [
    "4. What is the difference between a function and a function call?\n",
    "ANS:\n",
    "    A function is a named definition for lines of code perforning some logical functionality."
   ]
  },
  {
   "cell_type": "code",
   "execution_count": null,
   "id": "73454a9f-4c5b-4a09-abc2-237494392c21",
   "metadata": {},
   "outputs": [],
   "source": [
    "5. How many global scopes are there in a Python program? How many local scopes?\n",
    "ANS:\n",
    "    There is only one global scope in a Python program.\n",
    "    There is only one local scope in Python program.\n",
    "    "
   ]
  },
  {
   "cell_type": "code",
   "execution_count": null,
   "id": "dfce9f42-1d3e-4d0f-a37c-63fa206a3bb7",
   "metadata": {},
   "outputs": [],
   "source": [
    "6. What happens to variables in a local scope when the function call returns?\n",
    "ANS:\n",
    "    The variables in local scope will be vanished from memory after function call returns"
   ]
  },
  {
   "cell_type": "code",
   "execution_count": null,
   "id": "385f86eb-e9dd-4d75-a701-71f97cf1d45b",
   "metadata": {},
   "outputs": [],
   "source": [
    "7. What is the concept of a return value? Is it possible to have a return value in an expression?\n",
    "ANS:\n"
   ]
  },
  {
   "cell_type": "code",
   "execution_count": null,
   "id": "ac49a683-3840-4121-964f-5ded440bc1c4",
   "metadata": {},
   "outputs": [],
   "source": [
    "8. If a function does not have a return statement, what is the return value of a call to that function?\n",
    "ANS:\n",
    "    None"
   ]
  },
  {
   "cell_type": "code",
   "execution_count": null,
   "id": "b49ea92c-1d49-462c-8e26-b5c199a189ed",
   "metadata": {},
   "outputs": [],
   "source": [
    "9. How do you make a function variable refer to the global variable?\n",
    "ANS: \n",
    "   Use the global keyword"
   ]
  },
  {
   "cell_type": "code",
   "execution_count": null,
   "id": "db56cc4e-2370-4220-91db-b036fa9f792b",
   "metadata": {},
   "outputs": [],
   "source": [
    "10. What is the data type of None?\n",
    "ANS:\n",
    "    None is a data type of its own (NoneType class)"
   ]
  },
  {
   "cell_type": "code",
   "execution_count": null,
   "id": "4f9afbb4-923b-4e8e-b272-052e22866689",
   "metadata": {},
   "outputs": [],
   "source": [
    "11. What does the sentence import areallyourpetsnamederic do?\n",
    "ANS:\n",
    "    It will import all modules(functions/classes) in to the program"
   ]
  },
  {
   "cell_type": "code",
   "execution_count": null,
   "id": "171163a8-1873-4d72-a113-8355c8c9e815",
   "metadata": {},
   "outputs": [],
   "source": [
    "12. If you had a bacon() feature in a spam module, what would you call it after importing spam?\n",
    "ANS:\n",
    "    spam.bacon()"
   ]
  },
  {
   "cell_type": "code",
   "execution_count": null,
   "id": "5e53eba8-6fcd-4b4c-a2ba-5ffd1d7f94da",
   "metadata": {},
   "outputs": [],
   "source": [
    "13. What can you do to save a programme from crashing if it encounters an error?\n",
    "ANS:\n",
    "    Use exception handling (try and except)"
   ]
  },
  {
   "cell_type": "code",
   "execution_count": null,
   "id": "ae751213-90dc-4958-8d23-d4e59093569f",
   "metadata": {},
   "outputs": [],
   "source": [
    "14. What is the purpose of the try clause? What is the purpose of the except clause?\n",
    "ANS:\n",
    "    In try clause the programming logic is written. In except clause the error handling is done for exception occured in try block."
   ]
  }
 ],
 "metadata": {
  "kernelspec": {
   "display_name": "Python 3 (ipykernel)",
   "language": "python",
   "name": "python3"
  },
  "language_info": {
   "codemirror_mode": {
    "name": "ipython",
    "version": 3
   },
   "file_extension": ".py",
   "mimetype": "text/x-python",
   "name": "python",
   "nbconvert_exporter": "python",
   "pygments_lexer": "ipython3",
   "version": "3.10.6"
  }
 },
 "nbformat": 4,
 "nbformat_minor": 5
}
