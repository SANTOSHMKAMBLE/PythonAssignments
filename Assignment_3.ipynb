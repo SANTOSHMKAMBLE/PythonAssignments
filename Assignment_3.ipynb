{
 "cells": [
  {
   "cell_type": "raw",
   "id": "96cb60bd-44cc-47fe-a53a-b31101f62b93",
   "metadata": {},
   "source": [
    " 1. Why are functions advantageous to have in your programs?\n",
    " ANS:\n",
    "    Functions brings modularity and reusability to programs."
   ]
  },
  {
   "cell_type": "raw",
   "id": "f04a85b4-5ae0-4efc-8287-3cc1e817bf44",
   "metadata": {},
   "source": [
    "2. When does the code in a function run: when it's specified or when it's called?\n",
    "ANS:\n",
    "    The code in a function runs when it is called."
   ]
  },
  {
   "cell_type": "raw",
   "id": "ca33d7fa-6feb-4dfe-9065-115ae4dae188",
   "metadata": {},
   "source": [
    "3. What statement creates a function?\n",
    "ANS:\n",
    "    def <function name>:"
   ]
  },
  {
   "cell_type": "raw",
   "id": "d9fcc7f5-4a3a-4b85-9432-a6839d3f8818",
   "metadata": {},
   "source": [
    "4. What is the difference between a function and a function call?\n",
    "ANS:\n",
    "    A function is a named definition for lines of code perforning some logical functionality."
   ]
  },
  {
   "cell_type": "raw",
   "id": "8b3976ad-bbcf-4275-99b2-67cdbc3e5173",
   "metadata": {},
   "source": [
    "5. How many global scopes are there in a Python program? How many local scopes?\n",
    "ANS:\n",
    "    There is only one global scope in a Python program.\n",
    "    There is only one local scope in Python program.\n",
    "    "
   ]
  },
  {
   "cell_type": "raw",
   "id": "d2924310-85fb-4f02-aabf-bd7fcbf2ca72",
   "metadata": {},
   "source": [
    "6. What happens to variables in a local scope when the function call returns?\n",
    "ANS:\n",
    "    The variables in local scope will be vanished from memory after function call returns"
   ]
  },
  {
   "cell_type": "raw",
   "id": "b7931ed7-e5c7-4579-8553-b25201a70494",
   "metadata": {},
   "source": [
    "7. What is the concept of a return value? Is it possible to have a return value in an expression?\n",
    "ANS:\n"
   ]
  },
  {
   "cell_type": "raw",
   "id": "0a84c36c-7ffa-44a9-8984-033b12a5d97e",
   "metadata": {},
   "source": [
    "8. If a function does not have a return statement, what is the return value of a call to that function?\n",
    "ANS:\n",
    "    None"
   ]
  },
  {
   "cell_type": "raw",
   "id": "c12e9fe2-c392-439c-8622-1ec41674a99a",
   "metadata": {},
   "source": [
    "9. How do you make a function variable refer to the global variable?\n",
    "ANS: \n",
    "   Use the global keyword"
   ]
  },
  {
   "cell_type": "raw",
   "id": "2a082a94-4319-4a02-b8c6-cf621d26adbd",
   "metadata": {},
   "source": [
    "10. What is the data type of None?\n",
    "ANS:\n",
    "    None is a data type of its own (NoneType class)"
   ]
  },
  {
   "cell_type": "raw",
   "id": "29e7bae4-d65a-4e8d-a017-2e66576a6abc",
   "metadata": {},
   "source": [
    "11. What does the sentence import areallyourpetsnamederic do?\n",
    "ANS:\n",
    "    It will import all modules(functions/classes) in to the program"
   ]
  },
  {
   "cell_type": "raw",
   "id": "cc6f3cf3-cb63-4f17-a4ba-5f1d560e9198",
   "metadata": {},
   "source": [
    "12. If you had a bacon() feature in a spam module, what would you call it after importing spam?\n",
    "ANS:\n",
    "    spam.bacon()"
   ]
  },
  {
   "cell_type": "raw",
   "id": "b8ec426e-149f-40da-a0e1-4b18125a7630",
   "metadata": {},
   "source": [
    "13. What can you do to save a programme from crashing if it encounters an error?\n",
    "ANS:\n",
    "    Use exception handling (try and except)"
   ]
  },
  {
   "cell_type": "raw",
   "id": "6b8df232-306e-4059-92e3-eb8806b39969",
   "metadata": {},
   "source": [
    "14. What is the purpose of the try clause? What is the purpose of the except clause?\n",
    "ANS:\n",
    "    In try clause the programming logic is written. In except clause the error handling is done for exception occured in try block."
   ]
  }
 ],
 "metadata": {
  "kernelspec": {
   "display_name": "Python 3 (ipykernel)",
   "language": "python",
   "name": "python3"
  },
  "language_info": {
   "codemirror_mode": {
    "name": "ipython",
    "version": 3
   },
   "file_extension": ".py",
   "mimetype": "text/x-python",
   "name": "python",
   "nbconvert_exporter": "python",
   "pygments_lexer": "ipython3",
   "version": "3.10.6"
  }
 },
 "nbformat": 4,
 "nbformat_minor": 5
}
