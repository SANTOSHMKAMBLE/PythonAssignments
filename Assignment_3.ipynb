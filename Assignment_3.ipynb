{
 "cells": [
  {
   "cell_type": "markdown",
   "id": "f6c700ab-0cad-4161-8d97-12721e55d37e",
   "metadata": {},
   "source": [
    "1. Why are functions advantageous to have in your programs?\n",
    " \n",
    "ANS: Functions brings modularity and reusability to programs."
   ]
  },
  {
   "cell_type": "markdown",
   "id": "00697fd5-ac63-4cfc-a059-5b6f2e32d302",
   "metadata": {},
   "source": [
    "2. When does the code in a function run: when it's specified or when it's called?\n",
    "\n",
    "ANS:\n",
    "    The code in a function runs when it is called."
   ]
  },
  {
   "cell_type": "markdown",
   "id": "de569a62-3171-443b-954a-58fcbf16db96",
   "metadata": {},
   "source": [
    "3. What statement creates a function?\n",
    "\n",
    "ANS:\n",
    "    def func_name:"
   ]
  },
  {
   "cell_type": "markdown",
   "id": "4da0a90c-2f15-4512-b799-87a96939092e",
   "metadata": {},
   "source": [
    "4. What is the difference between a function and a function call?\n",
    "\n",
    "ANS:\n",
    "    A function is a named definition for lines of code perforning some logical functionality."
   ]
  },
  {
   "cell_type": "markdown",
   "id": "33bb77fa-ca73-4ac8-a6af-8f631cfcdfc6",
   "metadata": {},
   "source": [
    "5. How many global scopes are there in a Python program? How many local scopes?\n",
    "\n",
    "ANS:\n",
    "    There is only one global scope in a Python program.\n",
    "    There is only one local scope in Python program.\n",
    "    "
   ]
  },
  {
   "cell_type": "markdown",
   "id": "d9866697-ff4e-4bf5-b3eb-12c4cad64ca0",
   "metadata": {},
   "source": [
    "6. What happens to variables in a local scope when the function call returns?\n",
    "\n",
    "ANS:\n",
    "    The variables in local scope will be vanished from memory after function call returns"
   ]
  },
  {
   "cell_type": "markdown",
   "id": "bd2e480c-6e71-4f7e-9c65-d89c0b07ae90",
   "metadata": {},
   "source": [
    "7. What is the concept of a return value? Is it possible to have a return value in an expression?\n",
    "\n",
    "ANS:\n",
    "A return statement is used to end the execution of the function call and “returns” the result (value of the expression following the return keyword) to the caller"
   ]
  },
  {
   "cell_type": "markdown",
   "id": "4847e088-9f6e-4fa7-8688-4944e36869af",
   "metadata": {},
   "source": [
    "8. If a function does not have a return statement, what is the return value of a call to that function?\n",
    "\n",
    "ANS:\n",
    "    None"
   ]
  },
  {
   "cell_type": "markdown",
   "id": "d314e4ea-3065-411b-92b8-24ef0b5a7293",
   "metadata": {},
   "source": [
    "9. How do you make a function variable refer to the global variable?\n",
    "\n",
    "ANS: \n",
    "   Use the global keyword"
   ]
  },
  {
   "cell_type": "markdown",
   "id": "bea45421-eea6-4042-977e-89c1f9f5b6cf",
   "metadata": {},
   "source": [
    "10. What is the data type of None?\n",
    "\n",
    "ANS:\n",
    "    None is a data type of its own (NoneType class)"
   ]
  },
  {
   "cell_type": "markdown",
   "id": "edbea232-d7d2-432b-9e3b-efca1ecb1a39",
   "metadata": {},
   "source": [
    "11. What does the sentence import areallyourpetsnamederic do?\n",
    "\n",
    "ANS:\n",
    "    It will import all modules(functions/classes) in to the program"
   ]
  },
  {
   "cell_type": "markdown",
   "id": "7593c441-96a7-4274-9c34-c718f9064f5d",
   "metadata": {},
   "source": [
    "12. If you had a bacon() feature in a spam module, what would you call it after importing spam?\n",
    "\n",
    "ANS:\n",
    "    spam.bacon()"
   ]
  },
  {
   "cell_type": "markdown",
   "id": "271e255a-b549-4ae6-a43c-3fbccd3c21a7",
   "metadata": {},
   "source": [
    "13. What can you do to save a programme from crashing if it encounters an error?\n",
    "\n",
    "  ANS:\n",
    "    Use exception handling (try and except)"
   ]
  },
  {
   "cell_type": "markdown",
   "id": "46ea29fc-c20a-4195-a9eb-696e5b10e657",
   "metadata": {},
   "source": [
    "14. What is the purpose of the try clause? What is the purpose of the except clause?\n",
    "\n",
    "ANS:\n",
    "    In try clause the programming logic is written. In except clause the error handling is done for exception occured in try block."
   ]
  },
  {
   "cell_type": "code",
   "execution_count": null,
   "id": "96ddc1fb-a5a2-486d-9d9e-9d32b8323d17",
   "metadata": {},
   "outputs": [],
   "source": []
  }
 ],
 "metadata": {
  "kernelspec": {
   "display_name": "Python 3 (ipykernel)",
   "language": "python",
   "name": "python3"
  },
  "language_info": {
   "codemirror_mode": {
    "name": "ipython",
    "version": 3
   },
   "file_extension": ".py",
   "mimetype": "text/x-python",
   "name": "python",
   "nbconvert_exporter": "python",
   "pygments_lexer": "ipython3",
   "version": "3.10.6"
  }
 },
 "nbformat": 4,
 "nbformat_minor": 5
}
