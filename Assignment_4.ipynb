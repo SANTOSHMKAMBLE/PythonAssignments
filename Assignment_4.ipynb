{
 "cells": [
  {
   "cell_type": "raw",
   "id": "15f3c509-725d-4f3d-8ed4-d88db3e60fed",
   "metadata": {},
   "source": [
    "1. What exactly is []?\n",
    "ANS:\n",
    "    [] is used to declare a empty list\n",
    "    "
   ]
  },
  {
   "cell_type": "raw",
   "id": "6abd5775-d7ee-461b-89bc-ea9e169ff587",
   "metadata": {},
   "source": [
    "2. In a list of values stored in a variable called spam, how would you assign the value 'hello' as the third value? (Assume [2, 4, 6, 8, 10] are in spam.)\n"
   ]
  },
  {
   "cell_type": "code",
   "execution_count": 2,
   "id": "729d6b37-0d56-4839-badd-806e330f8e93",
   "metadata": {},
   "outputs": [
    {
     "name": "stdout",
     "output_type": "stream",
     "text": [
      "[2, 4, 6, 'hello', 10]\n"
     ]
    }
   ],
   "source": [
    "#ANS 2:\n",
    "spam = [2, 4, 6, 8, 10]\n",
    "spam[3] = \"hello\"\n",
    "print(spam)"
   ]
  },
  {
   "cell_type": "raw",
   "id": "ec4ddc98-7fe6-4ea9-b300-db10747e5573",
   "metadata": {},
   "source": [
    "\n",
    "Let's pretend the spam includes the list ['a', 'b', 'c', 'd'] for the next three queries."
   ]
  },
  {
   "cell_type": "code",
   "execution_count": 3,
   "id": "ee85e057-2493-45b9-bb9e-027c5babeca2",
   "metadata": {},
   "outputs": [],
   "source": [
    "spam = ['a', 'b', 'c', 'd']"
   ]
  },
  {
   "cell_type": "raw",
   "id": "e1df31d6-ad90-4661-8094-24edf9696f96",
   "metadata": {},
   "source": [
    "3. What is the value of spam[int(int('3' * 2) / 11)]?\n",
    "ANS:\n",
    "    'd'"
   ]
  },
  {
   "cell_type": "raw",
   "id": "253131bc-a9e1-47d6-8f8b-1684df1ec89b",
   "metadata": {},
   "source": [
    "4. What is the value of spam[-1]?\n",
    "ANS:\n",
    "    'd'"
   ]
  },
  {
   "cell_type": "raw",
   "id": "2ef242c1-dfe2-43f6-a6db-93bc3f22ff3f",
   "metadata": {},
   "source": [
    "5. What is the value of spam[:2]?\n",
    "ANS:\n",
    "   ['a', 'b']"
   ]
  },
  {
   "cell_type": "raw",
   "id": "e73fc68a-308b-4fc0-a30b-c94e97f82c15",
   "metadata": {},
   "source": [
    "Let's pretend bacon has the list [3.14, 'cat,' 11, 'cat,' True] for the next three questions."
   ]
  },
  {
   "cell_type": "code",
   "execution_count": 15,
   "id": "ba998f8b-c92d-4f80-85f6-1d2ba7c725a0",
   "metadata": {},
   "outputs": [],
   "source": [
    "bacon = [3.14, 'cat', 11, 'cat', True]"
   ]
  },
  {
   "cell_type": "raw",
   "id": "9db2507a-1fa0-4f9b-8c0e-9bc5bd6e0521",
   "metadata": {},
   "source": [
    "6. What is the value of bacon.index('cat')?\n",
    "ANS:\n",
    "    1"
   ]
  },
  {
   "cell_type": "raw",
   "id": "f9d3e858-a976-4a2d-9e97-578467a1e88d",
   "metadata": {},
   "source": [
    "7. How does bacon.append(99) change the look of the list value in bacon?\n",
    "ANS:\n",
    "    [3.14, 'cat', 11, 'cat', True, 99]"
   ]
  },
  {
   "cell_type": "raw",
   "id": "de0ad885-8a57-47bd-a3c6-e9d0b40092f0",
   "metadata": {},
   "source": [
    "8. How does bacon.remove('cat') change the look of the list in bacon?\n",
    "ANS:\n",
    "    [3.14, 'cat', 11, 'cat']"
   ]
  },
  {
   "cell_type": "raw",
   "id": "7d11bc26-ed4f-4969-9ec4-44de81840c85",
   "metadata": {},
   "source": [
    "9. What are the list concatenation and list replication operators?\n",
    "ANS:\n",
    "    list concatenation => extend()\n",
    "    list replication => copy()"
   ]
  },
  {
   "cell_type": "raw",
   "id": "a58e1d8f-c544-498c-a593-ba4221ee5448",
   "metadata": {},
   "source": [
    "10. What is difference between the list methods append() and insert()?\n",
    "ANS:\n",
    "    append() adds new element at the end of list\n",
    "    insert() adds element at given index"
   ]
  },
  {
   "cell_type": "raw",
   "id": "a7c0fc43-6d40-4b11-9f91-e01590e6c9f1",
   "metadata": {},
   "source": [
    "11. What are the two methods for removing items from a list?\n",
    "ANS:\n",
    "    del \n",
    "    remove"
   ]
  },
  {
   "cell_type": "raw",
   "id": "e789edb8-8ea1-4a86-9f59-f5b14b4c4c62",
   "metadata": {},
   "source": [
    "12. Describe how list values and string values are identical.\n",
    "ANS:\n",
    "    both are sequences"
   ]
  },
  {
   "cell_type": "raw",
   "id": "b51c09f9-0c4b-480f-b84c-2867e07e4bb1",
   "metadata": {},
   "source": [
    "13. What's the difference between tuples and lists?\n",
    "ANS:\n",
    "    Tuple                                                 List\n",
    "    1. Tuple elements are immutable                       1. list elements are mutable\n",
    "    2. syntax ()                                          2. syntax []"
   ]
  },
  {
   "cell_type": "raw",
   "id": "754cf070-11b9-40b9-99d5-f2bc92d9b023",
   "metadata": {},
   "source": [
    "14. How do you type a tuple value that only contains the integer 42?\n",
    "ANS:\n",
    "    tuple_ex = (42,)\n",
    "    tuple_ex[0]"
   ]
  },
  {
   "cell_type": "raw",
   "id": "f1416279-65b5-48fc-97d0-4065c1fae308",
   "metadata": {},
   "source": [
    "15. How do you get a list value's tuple form? How do you get a tuple value's list form?\n",
    "ANS:\n",
    "    bacon = [3.14, 'cat', 11, 'cat', True]\n",
    "    bacon_tup = tuple(bacon)\n",
    "    list(bacon_tup)\n",
    "    "
   ]
  },
  {
   "cell_type": "raw",
   "id": "4287805c-1cf9-49f6-bbc2-61f2a0bbb7ca",
   "metadata": {},
   "source": [
    "16. Variables that \"contain\" list values are not necessarily lists themselves. Instead, what do they contain?\n",
    "ANS:\n",
    "    Variables will contain references to list values rather than list values themselves"
   ]
  },
  {
   "cell_type": "raw",
   "id": "4d9037f5-5c13-4bc9-81ac-f6cb0fde904a",
   "metadata": {},
   "source": [
    "17. How do you distinguish between copy.copy() and copy.deepcopy()?\n",
    "ANS:\n",
    "    copy.copy() will create a object having same reference of original. Change made to any of the objects will modify both.\n",
    "    copy.deepcopy() will create a ibject which has different refernce than the original. Change made to any of the objects does not affect     other."
   ]
  }
 ],
 "metadata": {
  "kernelspec": {
   "display_name": "Python 3 (ipykernel)",
   "language": "python",
   "name": "python3"
  },
  "language_info": {
   "codemirror_mode": {
    "name": "ipython",
    "version": 3
   },
   "file_extension": ".py",
   "mimetype": "text/x-python",
   "name": "python",
   "nbconvert_exporter": "python",
   "pygments_lexer": "ipython3",
   "version": "3.10.6"
  }
 },
 "nbformat": 4,
 "nbformat_minor": 5
}
