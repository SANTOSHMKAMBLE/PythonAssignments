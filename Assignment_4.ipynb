{
 "cells": [
  {
   "cell_type": "markdown",
   "id": "e30940a0-a791-420e-ba9c-5dbe0b04eb07",
   "metadata": {},
   "source": [
    "1. What exactly is []?\n",
    "\n",
    "ANS:\n",
    "    [] is used to declare a empty list\n",
    "    "
   ]
  },
  {
   "cell_type": "markdown",
   "id": "77f5345b-f4ca-4a7d-90a2-33a0a52a3d3a",
   "metadata": {},
   "source": [
    "2. In a list of values stored in a variable called spam, how would you assign the value 'hello' as the third value? (Assume [2, 4, 6, 8, 10] are in spam.)\n",
    "ANS :\n",
    "spam = [2, 4, 6, 8, 10]\n",
    "spam[3] = \"hello\"\n",
    "print(spam)"
   ]
  },
  {
   "cell_type": "markdown",
   "id": "a632dcc9-b522-48ac-aeb5-fe99327797f3",
   "metadata": {},
   "source": [
    "\n",
    "Let's pretend the spam includes the list ['a', 'b', 'c', 'd'] for the next three queries."
   ]
  },
  {
   "cell_type": "markdown",
   "id": "30ee3a47-50c8-4cdd-910f-91116d47aec2",
   "metadata": {},
   "source": [
    "spam = ['a', 'b', 'c', 'd']"
   ]
  },
  {
   "cell_type": "markdown",
   "id": "44f9c636-f7a7-4f0e-b066-09154f9febec",
   "metadata": {
    "jupyter": {
     "source_hidden": true
    },
    "tags": []
   },
   "source": [
    "3. What is the value of spam[int(int('3' * 2) / 11)]?\n",
    "\n",
    "ANS:\n",
    "    'd'"
   ]
  },
  {
   "cell_type": "markdown",
   "id": "0af46f13-d092-47d4-a41c-7161a30fc662",
   "metadata": {},
   "source": [
    "4. What is the value of spam[-1]?\n",
    "\n",
    "ANS:\n",
    "    'd'"
   ]
  },
  {
   "cell_type": "markdown",
   "id": "aa985582-b450-49c4-a695-9e930e1bf046",
   "metadata": {},
   "source": [
    "5. What is the value of spam[:2]?\n",
    "ANS:\n",
    "   ['a', 'b']"
   ]
  },
  {
   "cell_type": "markdown",
   "id": "73954aeb-3d58-411a-8058-02222f88de72",
   "metadata": {},
   "source": [
    "Let's pretend bacon has the list [3.14, 'cat,' 11, 'cat,' True] for the next three questions."
   ]
  },
  {
   "cell_type": "markdown",
   "id": "23b53fee-4988-48ec-b9bb-6aba4aabe28d",
   "metadata": {},
   "source": [
    "bacon = [3.14, 'cat', 11, 'cat', True]"
   ]
  },
  {
   "cell_type": "markdown",
   "id": "6276f47a-cb86-47b6-bde4-a00b5fcb1862",
   "metadata": {},
   "source": [
    "6. What is the value of bacon.index('cat')?\n",
    "\n",
    "ANS:\n",
    "    1"
   ]
  },
  {
   "cell_type": "markdown",
   "id": "6e99090c-4022-4106-bdb7-f286f4248c17",
   "metadata": {},
   "source": [
    "7. How does bacon.append(99) change the look of the list value in bacon?\n",
    "\n",
    "ANS:\n",
    "    [3.14, 'cat', 11, 'cat', True, 99]"
   ]
  },
  {
   "cell_type": "markdown",
   "id": "036f7e54-814c-451d-9319-be209c182a94",
   "metadata": {},
   "source": [
    "8. How does bacon.remove('cat') change the look of the list in bacon?\n",
    "\n",
    "ANS:\n",
    "    [3.14, 'cat', 11, 'cat']"
   ]
  },
  {
   "cell_type": "markdown",
   "id": "0dce14f0-2557-442f-bc1d-450dcca7e412",
   "metadata": {},
   "source": [
    "9. What are the list concatenation and list replication operators?\n",
    "\n",
    "ANS:\n",
    "    list concatenation => extend()\n",
    "    list replication => copy()"
   ]
  },
  {
   "cell_type": "markdown",
   "id": "b389262a-730a-4858-bbf6-84c54216652e",
   "metadata": {},
   "source": [
    "10. What is difference between the list methods append() and insert()?\n",
    "\n",
    "ANS:\n",
    "    append() adds new element at the end of list\n",
    "    insert() adds element at given index"
   ]
  },
  {
   "cell_type": "markdown",
   "id": "18a10e4f-fb7a-4f4f-af83-75a6b0a356cb",
   "metadata": {},
   "source": [
    "11. What are the two methods for removing items from a list?\n",
    "\n",
    "ANS:\n",
    "    del \n",
    "    remove"
   ]
  },
  {
   "cell_type": "markdown",
   "id": "ceab0cfa-320a-45cb-a38d-897b3f30355e",
   "metadata": {},
   "source": [
    "12. Describe how list values and string values are identical.\n",
    "\n",
    "ANS:\n",
    "    both are sequences"
   ]
  },
  {
   "cell_type": "markdown",
   "id": "ae99a164-03df-4ef6-8df3-b7dd1f46a28c",
   "metadata": {},
   "source": [
    "13. What's the difference between tuples and lists?\n",
    "\n",
    "ANS:\n",
    "    Tuple                                                 List\n",
    "    1. Tuple elements are immutable                       1. list elements are mutable\n",
    "    2. syntax ()                                          2. syntax []"
   ]
  },
  {
   "cell_type": "markdown",
   "id": "da90afa6-a8c7-4c4e-951e-61cd0e3eb839",
   "metadata": {},
   "source": [
    "14. How do you type a tuple value that only contains the integer 42?\n",
    "\n",
    "ANS:\n",
    "    tuple_ex = (42,)\n",
    "    tuple_ex[0]"
   ]
  },
  {
   "cell_type": "markdown",
   "id": "a06774b5-aee4-49cc-a204-06753c407bb7",
   "metadata": {},
   "source": [
    "15. How do you get a list value's tuple form? How do you get a tuple value's list form?\n",
    "\n",
    "ANS:\n",
    "    bacon = [3.14, 'cat', 11, 'cat', True]\n",
    "    bacon_tup = tuple(bacon)\n",
    "    list(bacon_tup)\n",
    "    "
   ]
  },
  {
   "cell_type": "markdown",
   "id": "3f309ffa-031b-4742-805e-8c4b77b1f01b",
   "metadata": {},
   "source": [
    "16. Variables that \"contain\" list values are not necessarily lists themselves. Instead, what do they contain?\n",
    "\n",
    "ANS:\n",
    "    Variables will contain references to list values rather than list values themselves"
   ]
  },
  {
   "cell_type": "markdown",
   "id": "96fd5b35-3f45-4fbe-8520-6aedfaeb4b3e",
   "metadata": {},
   "source": [
    "17. How do you distinguish between copy.copy() and copy.deepcopy()?\n",
    "\n",
    "ANS:\n",
    "    copy.copy() will create a object having same reference of original. Change made to any of the objects will modify both.\n",
    "    copy.deepcopy() will create a ibject which has different refernce than the original. Change made to any of the objects does not affect     other."
   ]
  }
 ],
 "metadata": {
  "kernelspec": {
   "display_name": "Python 3 (ipykernel)",
   "language": "python",
   "name": "python3"
  },
  "language_info": {
   "codemirror_mode": {
    "name": "ipython",
    "version": 3
   },
   "file_extension": ".py",
   "mimetype": "text/x-python",
   "name": "python",
   "nbconvert_exporter": "python",
   "pygments_lexer": "ipython3",
   "version": "3.10.6"
  }
 },
 "nbformat": 4,
 "nbformat_minor": 5
}
