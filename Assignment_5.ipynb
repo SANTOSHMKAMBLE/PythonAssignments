{
 "cells": [
  {
   "cell_type": "raw",
   "id": "64a2c93e-fc7e-47c7-9530-59755df38922",
   "metadata": {},
   "source": [
    "1. What does an empty dictionary's code look like?\n",
    "ANS:\n",
    "    empty_dict = {} or empty_dict = dict()"
   ]
  },
  {
   "cell_type": "raw",
   "id": "89690de3-fc60-4a33-8bf3-ccb288a36769",
   "metadata": {},
   "source": [
    "2. What is the value of a dictionary value with the key 'foo' and the value 42?\n",
    "ANS:\n",
    "    tmp_dict = {\"foo\" : 42} or tmp_dict = dict(foo=42)"
   ]
  },
  {
   "cell_type": "raw",
   "id": "aadfed8d-72f7-4f05-ba54-6027eee93746",
   "metadata": {},
   "source": [
    "3. What is the most significant distinction between a dictionary and a list?\n",
    "ANS:\n",
    "    In dictionary values are associated with keys while in list values are associated with indices."
   ]
  },
  {
   "cell_type": "raw",
   "id": "0b83c699-86fb-4ab7-9f88-02fe1766665d",
   "metadata": {},
   "source": [
    "4. What happens if you try to access spam['foo'] if spam is {'bar': 100}?\n",
    "ANS:\n",
    "    Key Error: 'foo'"
   ]
  },
  {
   "cell_type": "raw",
   "id": "1ec5c961-29da-4269-bfbe-013769aafc52",
   "metadata": {},
   "source": [
    "5. If a dictionary is stored in spam, what is the difference between the expressions 'cat' in spam and 'cat' in spam.keys()?\n",
    "ANS:\n",
    "    Both expressions check for presence of 'cat' key. No difference. "
   ]
  },
  {
   "cell_type": "raw",
   "id": "6bc8efc7-1f0d-467a-91d4-90c783f4810c",
   "metadata": {},
   "source": [
    "6. If a dictionary is stored in spam, what is the difference between the expressions 'cat' in spam and 'cat' in spam.values()?\n",
    "ANS:\n",
    "    'cat' in spam will check for presence of key named 'cat'\n",
    "    'cat' in spam.values() will check for presence of value 'cat'"
   ]
  },
  {
   "cell_type": "raw",
   "id": "972ca6b9-afea-4369-9ad8-9ce7dd956e5a",
   "metadata": {},
   "source": [
    "7. What is a shortcut for the following code?\n",
    "if 'color' not in spam:\n",
    "spam['color'] = 'black'\n",
    "\n",
    "ANS:\n",
    "    spam.setdefault('color','black')"
   ]
  },
  {
   "cell_type": "raw",
   "id": "df8acf29-f7df-4134-a454-a4b1aa63c1bb",
   "metadata": {},
   "source": [
    "8. How do you \"pretty print\" dictionary values using which module and function?\n",
    "ANS:\n",
    "    import pprint\n",
    "    pprint.pprint(spam)"
   ]
  }
 ],
 "metadata": {
  "kernelspec": {
   "display_name": "Python 3 (ipykernel)",
   "language": "python",
   "name": "python3"
  },
  "language_info": {
   "codemirror_mode": {
    "name": "ipython",
    "version": 3
   },
   "file_extension": ".py",
   "mimetype": "text/x-python",
   "name": "python",
   "nbconvert_exporter": "python",
   "pygments_lexer": "ipython3",
   "version": "3.10.6"
  }
 },
 "nbformat": 4,
 "nbformat_minor": 5
}
