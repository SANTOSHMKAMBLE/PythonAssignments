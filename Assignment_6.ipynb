{
 "cells": [
  {
   "cell_type": "raw",
   "id": "1ebf2ef9-68d3-43db-8ee2-805c7edc8a0f",
   "metadata": {},
   "source": [
    "Q.1. What are keywords in python? Using the keyword library, print all the python keywords.\n",
    "ANS:\n",
    "    Keywords are special words used by python language to be useful for writing a program. One can't use these keyword as user defined variables in program."
   ]
  },
  {
   "cell_type": "code",
   "execution_count": 4,
   "id": "a10baf86-ea47-4702-8f8f-345d3b55a34b",
   "metadata": {},
   "outputs": [
    {
     "name": "stdout",
     "output_type": "stream",
     "text": [
      "['False', 'None', 'True', 'and', 'as', 'assert', 'async', 'await', 'break', 'class', 'continue', 'def', 'del', 'elif', 'else', 'except', 'finally', 'for', 'from', 'global', 'if', 'import', 'in', 'is', 'lambda', 'nonlocal', 'not', 'or', 'pass', 'raise', 'return', 'try', 'while', 'with', 'yield']\n",
      "35\n"
     ]
    }
   ],
   "source": [
    "import keyword\n",
    "print(keyword.kwlist)\n",
    "print(len(keyword.kwlist))"
   ]
  },
  {
   "cell_type": "raw",
   "id": "9aeb13af-ae92-4caf-912c-336d44fb8a76",
   "metadata": {},
   "source": [
    "Q.2. What are the rules to create variables in python?\n",
    "ANS:\n",
    "    1. Variable name should not be a keyword\n",
    "    2. Variable name should not contain special characters like !,@,#,$,%,^,&\n",
    "    3. Vaiable name should not start with a number"
   ]
  },
  {
   "cell_type": "raw",
   "id": "c78ab56a-49d1-4d81-8cc2-7b3a3f183444",
   "metadata": {},
   "source": [
    "Q.3. What are the standards and conventions followed for the nomenclature of variables in\n",
    "python to improve code readability and maintainability?\n",
    "ANS:\n",
    "    1. Meaningful and understandable variables name helps anyone to understand the reason of using it.\n",
    "    2. Local variables should be named using camel case lettering starting with small letter (e.g. localData) whereas Global variables\n",
    "    names should start with a capital letter (e.g. GlobalData). Constant names should be formed using capital letters only (e.g.\n",
    "    CONSDATA).\n",
    "    3. It is better to avoid the use of digits in variable names.\n",
    "    4. The names of the function should be written in camel case starting with small letters.\n",
    "    5. The name of the function must describe the reason of using the function clearly and briefly."
   ]
  },
  {
   "cell_type": "raw",
   "id": "1a6ee9a3-eccb-4700-878e-a57e828ce733",
   "metadata": {},
   "source": [
    "Q.4. What will happen if a keyword is used as a variable name?\n",
    "ANS:\n",
    "    It will throw syntax error"
   ]
  },
  {
   "cell_type": "code",
   "execution_count": 6,
   "id": "fafd3615-5d6d-4e0f-aec9-a70128028991",
   "metadata": {},
   "outputs": [
    {
     "ename": "SyntaxError",
     "evalue": "cannot assign to True (364383922.py, line 1)",
     "output_type": "error",
     "traceback": [
      "\u001b[0;36m  Cell \u001b[0;32mIn [6], line 1\u001b[0;36m\u001b[0m\n\u001b[0;31m    True = 4\u001b[0m\n\u001b[0m    ^\u001b[0m\n\u001b[0;31mSyntaxError\u001b[0m\u001b[0;31m:\u001b[0m cannot assign to True\n"
     ]
    }
   ],
   "source": [
    "True = 4"
   ]
  },
  {
   "cell_type": "raw",
   "id": "75ebcea3-e6e5-40fd-8cd2-ea623770630e",
   "metadata": {},
   "source": [
    "Q.5. For what purpose def keyword is used?\n",
    "ANS:\n",
    "    def keyword is used to define a function or class method"
   ]
  },
  {
   "cell_type": "raw",
   "id": "9eef4a32-3f0d-4ca3-86c0-8df9ee4e4df3",
   "metadata": {},
   "source": [
    "Q.6. What is the operation of this special character ‘\\’?\n",
    "ANS:\n",
    "    '\\' can be used to keep continuity of line of code, broken into multiple lines"
   ]
  },
  {
   "cell_type": "raw",
   "id": "63a1556b-d25f-4be3-926e-39aaedad6fa1",
   "metadata": {},
   "source": [
    "Q.7. Give an example of the following conditions:\n",
    "(i) Homogeneous list\n",
    "(ii) Heterogeneous set\n",
    "(iii) Homogeneous tuple\n",
    "ANS:\n",
    "    homo_list = [\"mango\", \"apple\", \"banana\"]\n",
    "    hetero_set = {1, \"cycle\", 5, \"car\"}\n",
    "    homo_tup = (1, 2, 3, 4, 5)"
   ]
  },
  {
   "cell_type": "raw",
   "id": "f23f426e-2d40-4c08-ac6b-18daa1417b1f",
   "metadata": {},
   "source": [
    "Q.8. Explain the mutable and immutable data types with proper explanation & examples.\n",
    "ANS:\n",
    "mutable data type:\n",
    "    We can modify the elements of variable having immutable data type. We can insert, remove or replace the elemments of such variable.\n",
    "    e.g list, dictionary\n",
    "    homo_list = [\"mango\", \"apple\", \"banana\"]\n",
    "    homo_list[0] = \"blueberry\"\n",
    "    \n",
    "immutable data type:\n",
    "    We can't modify the elements of variable having mutable data type. Elements can't be inserted, deleted or replaced once it is defined. e.g tuple\n",
    "    tup_test = (1, 2, 3, 4)\n",
    "    tup_test[0] = 5\n",
    "    \n",
    "data type \"set\" can be called mutable in terms of insert and delete operation on elements. But it is immutable if we consider replacing a set element. \n",
    "    "
   ]
  },
  {
   "cell_type": "raw",
   "id": "2c01640a-9be6-4c99-a4cb-0d2949ec620a",
   "metadata": {},
   "source": [
    "Q.9. Write a code to create the given structure using only for loop.\n",
    "*\n",
    "***\n",
    "*****\n",
    "*******\n",
    "*********"
   ]
  },
  {
   "cell_type": "code",
   "execution_count": 12,
   "id": "76dfc857-11b7-47d1-aaa1-03c7bb9789bf",
   "metadata": {},
   "outputs": [
    {
     "name": "stdout",
     "output_type": "stream",
     "text": [
      "*\n",
      "***\n",
      "*****\n",
      "*******\n",
      "*********\n"
     ]
    }
   ],
   "source": [
    "n = 9\n",
    "for i in range(n):\n",
    "    if (i%2) == 0:\n",
    "        print(\"*\" * (i + 1))"
   ]
  },
  {
   "cell_type": "raw",
   "id": "bcbd8763-10de-4b24-abfd-a17a122a3cfd",
   "metadata": {},
   "source": [
    "\n",
    "Q.10. Write a code to create the given structure using while loop.\n",
    "|||||||||\n",
    "|||||||\n",
    "|||||\n",
    "|||\n"
   ]
  },
  {
   "cell_type": "code",
   "execution_count": 6,
   "id": "7145d9ad-65bb-4529-9970-2ec6f4d1e23f",
   "metadata": {},
   "outputs": [
    {
     "name": "stdout",
     "output_type": "stream",
     "text": [
      "|||||||||\n",
      "|||||||\n",
      "|||||\n",
      "|||\n"
     ]
    }
   ],
   "source": [
    "n = 9\n",
    "while(n>1):\n",
    "    if (n%2) == 1:\n",
    "        #print(\"|\"*n)\n",
    "        for i in range(n):\n",
    "            print(\"|\", end=\"\")\n",
    "        print()\n",
    "    n -= 1\n",
    "    "
   ]
  },
  {
   "cell_type": "code",
   "execution_count": null,
   "id": "780dc0d1-0ae2-43fc-9ff3-8f563b42ce89",
   "metadata": {},
   "outputs": [],
   "source": []
  }
 ],
 "metadata": {
  "kernelspec": {
   "display_name": "Python 3 (ipykernel)",
   "language": "python",
   "name": "python3"
  },
  "language_info": {
   "codemirror_mode": {
    "name": "ipython",
    "version": 3
   },
   "file_extension": ".py",
   "mimetype": "text/x-python",
   "name": "python",
   "nbconvert_exporter": "python",
   "pygments_lexer": "ipython3",
   "version": "3.10.6"
  }
 },
 "nbformat": 4,
 "nbformat_minor": 5
}
