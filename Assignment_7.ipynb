{
 "cells": [
  {
   "cell_type": "markdown",
   "id": "63b7d86d-56b2-4791-8c37-e8529e4ba339",
   "metadata": {},
   "source": [
    "Q.1. Create two int type variables, apply addition, subtraction, division and multiplications\n",
    "and store the results in variables. Then print the data in the following format by calling the\n",
    "variables:\n",
    "First variable is __ & second variable is __.\n",
    "Addition: __ + __ = __\n",
    "Subtraction: __ - __ = __\n",
    "Multiplication: __ * __ = __\n",
    "Division: __ / __ = __\n",
    "\n",
    "ANS:\n",
    "    \n",
    "a = 5\n",
    "b = 4\n",
    "print(\"First variable is {} & secod variable is {}.\".format(a, b))\n",
    "print(\"Addition: {} + {} = {}\".format(a, b, a+b))\n",
    "print(\"Subtraction: {} - {} = {}\".format(a, b, a-b))\n",
    "print(\"Multiplication: {} * {} = {}\".format(a, b, a*b))\n",
    "print(\"Division: {} / {} = {}\".format(a, b, a/b))"
   ]
  },
  {
   "cell_type": "markdown",
   "id": "9a8d41b9-5136-4980-8867-d1c9273ac540",
   "metadata": {},
   "source": [
    "Q.2. What is the difference between the following operators:\n",
    "\n",
    "(i) ‘/’ & ‘//’\n",
    "\n",
    "ANS:\n",
    "    \n",
    "    '/' division operator\n",
    "    '//' floor division\n",
    "    \n",
    "(ii) ‘**’ & ‘^’\n",
    "\n",
    "ANS:\n",
    "    \n",
    "    '**' Exponentiation\n",
    "    '^'  XOR\n",
    "    "
   ]
  },
  {
   "cell_type": "markdown",
   "id": "a4efc809-a7d3-4d8a-a521-382b6d397576",
   "metadata": {},
   "source": [
    "Q.3. List the logical operators.\n",
    "\n",
    "ANS:\n",
    "    and, or, not "
   ]
  },
  {
   "cell_type": "markdown",
   "id": "b30d57fe-b2c5-4efe-b0ec-1b10bffd3474",
   "metadata": {},
   "source": [
    "Q.4. Explain right shift operator and left shift operator with examples.\n",
    "\n",
    "ANS:\n",
    "\n",
    "    << left shift operator\n",
    "    >> right shift operator\n",
    "    a = 10\n",
    "    print(a<<1)\n",
    "    print(a>>1)"
   ]
  },
  {
   "cell_type": "markdown",
   "id": "1d796579-dc28-4ff9-95ea-3e1f2e28e449",
   "metadata": {},
   "source": [
    "Q.5. Create a list containing int type data of length 15. Then write a code to check if 10 is\n",
    "present in the list or not\n",
    "\n",
    "ANS:\n",
    "    test_list = [1, 3, 5, 7, 9, 10, 12, 18, 10, 1, 4, 8, 7, 5, 3]\n",
    "    print(len(test_list))\n",
    "    \n",
    "    if 10 in test_list:\n",
    "        print(\"10\" is present in list)"
   ]
  },
  {
   "cell_type": "markdown",
   "id": "6722c6e7-ba1e-475e-817e-7b32b740ed94",
   "metadata": {},
   "source": [
    "    test_list = [1, 3, 5, 7, 9, 10, 12, 18, 10, 1, 4, 8, 7, 5, 3]\n",
    "    print(len(test_list))\n",
    "    if 10 in test_list:\n",
    "        print(\"10 is present in list\")"
   ]
  },
  {
   "cell_type": "markdown",
   "id": "8cac2dfa-9d41-4a32-9b15-6712653e7981",
   "metadata": {},
   "source": []
  }
 ],
 "metadata": {
  "kernelspec": {
   "display_name": "Python 3 (ipykernel)",
   "language": "python",
   "name": "python3"
  },
  "language_info": {
   "codemirror_mode": {
    "name": "ipython",
    "version": 3
   },
   "file_extension": ".py",
   "mimetype": "text/x-python",
   "name": "python",
   "nbconvert_exporter": "python",
   "pygments_lexer": "ipython3",
   "version": "3.10.6"
  }
 },
 "nbformat": 4,
 "nbformat_minor": 5
}
